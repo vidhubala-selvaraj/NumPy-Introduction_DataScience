{
 "cells": [
  {
   "cell_type": "markdown",
   "metadata": {},
   "source": [
    "# Introduction to NUMPY"
   ]
  },
  {
   "cell_type": "code",
   "execution_count": null,
   "metadata": {},
   "outputs": [],
   "source": [
    "# Numpy - Numerical Python\n",
    "# library needed \"numpy\"\n",
    "# \"np\" is the usual alias for numpy\n",
    "# in numpy everything is considered as array, can't understand anything else.\n",
    "# \"ndarray\" - n-dimensional array\n",
    "# \"np.min()\",\"np.max()\",\"np.mean()\",\"np.median()\",\"np.std()\",\"np.var()\"\n",
    "# \"np.zeros(())\"\n",
    "# \"np.full([row,col],value)\"\n",
    "# \"np.array_equal()\"\n",
    "# \"np.logical_or\" etc..\n",
    "# \"np.savetext(\"file_name.csv\")\" - save file\n",
    "# \"variable_name.flatten()\" - back to array form from list"
   ]
  },
  {
   "cell_type": "code",
   "execution_count": 2,
   "metadata": {},
   "outputs": [
    {
     "name": "stdout",
     "output_type": "stream",
     "text": [
      "tuple_1: <class 'tuple'>\n",
      "tuple_11: [1 2 3]\n",
      "<class 'numpy.ndarray'>\n"
     ]
    }
   ],
   "source": [
    "#create tuple and converting into array\n",
    "#array - [1 2 3]\n",
    "#list - [1,2,3]\n",
    "\n",
    "import numpy as np\n",
    "tuple_1 = (1,2,3)\n",
    "print(\"tuple_1:\" ,type(tuple_1))\n",
    "tuple_11 = np.array(tuple_1)\n",
    "print(\"tuple_11:\",tuple_11)\n",
    "print(type(tuple_11))"
   ]
  },
  {
   "cell_type": "code",
   "execution_count": null,
   "metadata": {},
   "outputs": [],
   "source": [
    "#list into array\n",
    "\n",
    "import numpy as np\n",
    "list_1 = [1,2,3,4]\n",
    "list_11 = np.array(list_1)\n",
    "print(list_11)"
   ]
  },
  {
   "cell_type": "code",
   "execution_count": null,
   "metadata": {},
   "outputs": [],
   "source": [
    "#dict into array\n",
    "\n",
    "import numpy as np\n",
    "dict_1 = {\"Name\":\"Vidhu\",\"Weight\":40}\n",
    "dict_11 = np.array(dict_1)\n",
    "print(dict_11)\n",
    "print(type(dict_11))"
   ]
  },
  {
   "cell_type": "code",
   "execution_count": null,
   "metadata": {},
   "outputs": [],
   "source": [
    "#displaying shape of array\n",
    "\n",
    "import numpy as np\n",
    "list_1 = [1,2,3,4]\n",
    "list_11 = np.array(list_1)\n",
    "print(list_11)\n",
    "\n",
    "print(\"Shape: \",list_11.shape)"
   ]
  },
  {
   "cell_type": "code",
   "execution_count": null,
   "metadata": {},
   "outputs": [],
   "source": [
    "#output of shape here is (1 row, 4 elements) -> ndmin = 2\n",
    "\n",
    "list_111 = np.array(list_11,ndmin = 2)\n",
    "print(list_111.shape)"
   ]
  },
  {
   "cell_type": "code",
   "execution_count": null,
   "metadata": {},
   "outputs": [],
   "source": [
    "#output for ndmin = 3 is (1 matrix, 1 row, 4 elements)\n",
    "\n",
    "list_111 = np.array(list_11,ndmin = 3)\n",
    "print(list_111.shape)"
   ]
  },
  {
   "cell_type": "code",
   "execution_count": null,
   "metadata": {},
   "outputs": [],
   "source": [
    "#typecasting float into int\n",
    "\n",
    "list_1 = [1.56,2.66,3.88,4.98]\n",
    "list_11 = np.array(list_1,dtype=int)\n",
    "print(list_11)"
   ]
  },
  {
   "cell_type": "code",
   "execution_count": null,
   "metadata": {},
   "outputs": [],
   "source": [
    "#Task - create list with elements in integer, convert into array.\n",
    "\n",
    "import numpy as npy\n",
    "list_2 = [1,2,3,4,5,6]\n",
    "list_21 = npy.array(list_2,ndmin = 2,dtype=float)\n",
    "print(\"DataType:\",type(list_21))\n",
    "print(\"Value: \",list_21)\n",
    "print(\"Shape: \",list_21.shape)"
   ]
  },
  {
   "cell_type": "code",
   "execution_count": 18,
   "metadata": {},
   "outputs": [
    {
     "name": "stdout",
     "output_type": "stream",
     "text": [
      "[-45  21  31  41  51  61]\n"
     ]
    }
   ],
   "source": [
    "#array-scalar type\n",
    "\n",
    "import numpy as np\n",
    "list_2 = [1234567891,21,31,41,51,61]\n",
    "list_21 = np.array(list_2,np.int8)\n",
    "print(list_21)\n"
   ]
  },
  {
   "cell_type": "code",
   "execution_count": null,
   "metadata": {},
   "outputs": [],
   "source": [
    "#8-bit -- 1 byte, 16-bit -- 2 bytes, 32-bit -- 4 bytes, 64-bit -- 8 bytes\n",
    "#int8, int16, int32, int64 -> \"i1\",\"i2\",\"i4\" etc..\n",
    "import numpy as np\n",
    "dt = np.dtype(\"i4\")\n",
    "print(dt)\n",
    "\n",
    "list_3 = [1,2]\n",
    "list_31 = np.array(list_3,dtype = dt)\n",
    "print(list_31)\n",
    "print(list_31.nbytes)\n"
   ]
  },
  {
   "cell_type": "code",
   "execution_count": null,
   "metadata": {},
   "outputs": [],
   "source": [
    "a = [[1,2],[1,4]]\n",
    "b = np.array(a)\n",
    "c = b.reshape(2,2) #2 rows and 2 columns\n",
    "print(\"c:\",c)"
   ]
  },
  {
   "cell_type": "code",
   "execution_count": null,
   "metadata": {},
   "outputs": [],
   "source": [
    "#3 rows and 3 columns\n",
    "a1 = [[1,2,3],[4,5,6],[7,8,9]]\n",
    "b1 = np.array(a1,ndmin = 3)\n",
    "c1 = b1.reshape(3,3)\n",
    "print(c1)\n",
    "print(b1.shape)"
   ]
  },
  {
   "cell_type": "code",
   "execution_count": null,
   "metadata": {},
   "outputs": [],
   "source": [
    "#2 rows and 3 columns\n",
    "a1 = [[1,2,3],[4,5,6]]\n",
    "b1 = np.array(a1,ndmin = 3)\n",
    "c1 = b1.reshape(2,3)\n",
    "print(c1)\n",
    "print(b1.shape)"
   ]
  },
  {
   "cell_type": "code",
   "execution_count": 3,
   "metadata": {},
   "outputs": [
    {
     "name": "stdout",
     "output_type": "stream",
     "text": [
      "[[1 2]\n",
      " [3 4]\n",
      " [5 6]]\n",
      "<class 'numpy.ndarray'>\n",
      "(6,)\n"
     ]
    }
   ],
   "source": [
    "#3 rows and 2 columns\n",
    "a1 = [1,2,3,4,5,6]\n",
    "b1 = np.array(a1,ndmin = 1)\n",
    "c1 = b1.reshape(3,2)\n",
    "print(c1)\n",
    "print(type(c1))\n",
    "print(b1.shape)"
   ]
  },
  {
   "cell_type": "code",
   "execution_count": 4,
   "metadata": {},
   "outputs": [
    {
     "name": "stdout",
     "output_type": "stream",
     "text": [
      "(1, 3, 4)\n",
      "[[ 1  2]\n",
      " [ 3  4]\n",
      " [ 5  6]\n",
      " [ 7  8]\n",
      " [ 9 10]\n",
      " [11 12]]\n",
      "(1, 3, 4)\n"
     ]
    }
   ],
   "source": [
    "matrix = [[1,2,3,4],[5,6,7,8],[9,10,11,12]]\n",
    "matrix_1 = np.array(matrix,ndmin = 3)\n",
    "print(matrix_1.shape)\n",
    "matrix_2 = matrix_1.reshape(6,2)\n",
    "print(matrix_2)\n",
    "print(matrix_1.shape)"
   ]
  },
  {
   "cell_type": "code",
   "execution_count": 5,
   "metadata": {},
   "outputs": [
    {
     "name": "stdout",
     "output_type": "stream",
     "text": [
      "[ 0  1  2  3  4  5  6  7  8  9 10]\n",
      "<class 'numpy.ndarray'>\n",
      "(11,)\n",
      "11\n",
      "4\n",
      "44\n"
     ]
    }
   ],
   "source": [
    "#creating a seq in numpy\n",
    "#\"np.arange\" is the keyword\n",
    "#\"ndim\" gives the dimension\n",
    "#if you do not know the values\n",
    "seq = np.arange(11) #default takes value from 0\n",
    "print(seq)\n",
    "print(type(seq))\n",
    "print(seq.shape)\n",
    "print(seq.size)\n",
    "print(seq.itemsize)\n",
    "print(seq.nbytes)"
   ]
  },
  {
   "cell_type": "code",
   "execution_count": null,
   "metadata": {},
   "outputs": [],
   "source": [
    "seq_1 = np.arange(5,26)\n",
    "print(seq_1)\n",
    "seq_2 = np.arange(0,15,2)\n",
    "print(seq_2)"
   ]
  },
  {
   "cell_type": "code",
   "execution_count": 8,
   "metadata": {},
   "outputs": [
    {
     "name": "stdout",
     "output_type": "stream",
     "text": [
      "[ 5  7 10]\n",
      "[0.  1.5 3.  4.5]\n"
     ]
    }
   ],
   "source": [
    "#linespace prints some random numbers given in a range - (endpoint parameter = True -> accepts the end value) => \n",
    "#default 'endpoint'is true\n",
    "#\"linspace\"\n",
    "#\"num\" is used to get the number of random values.\n",
    "\n",
    "line = np.linspace(5,10, num = 3, dtype = int)\n",
    "print(line)\n",
    "print(np.linspace(0,6, num = 4, endpoint = False))"
   ]
  },
  {
   "cell_type": "code",
   "execution_count": 9,
   "metadata": {},
   "outputs": [
    {
     "name": "stdout",
     "output_type": "stream",
     "text": [
      "[ 32.   89.6 122.  206.6 210.2  75.2]\n"
     ]
    }
   ],
   "source": [
    "import numpy as np\n",
    "list_1 = [0,32,50,97,99,24]\n",
    "list_11 = np.array(list_1)\n",
    "print((list_11 * (9/5)) + 32)\n",
    "\n",
    "\n",
    "# def f1():\n",
    "#     f = (list_11 * (9/5)) + 32\n",
    "#     print(f)\n",
    "# f1()"
   ]
  },
  {
   "cell_type": "code",
   "execution_count": null,
   "metadata": {},
   "outputs": [],
   "source": [
    "#converting celcius into farenheit using numpy + lambda\n",
    "import numpy as np\n",
    "list_1 = [0,32,50,97,99,24]\n",
    "list_11 = np.array(list_1)\n",
    "list_f = lambda x : ((x * (9/5)) + 32)\n",
    "print(list_f(list_11))"
   ]
  },
  {
   "cell_type": "code",
   "execution_count": null,
   "metadata": {},
   "outputs": [],
   "source": [
    "seq_1 = np.arange(1,25)\n",
    "seq_2 = seq_1.reshape(2,12)\n",
    "print(seq_2)"
   ]
  },
  {
   "cell_type": "code",
   "execution_count": null,
   "metadata": {},
   "outputs": [],
   "source": [
    "seq_1 = np.arange(24)\n",
    "seq_2 = seq_1.reshape(2,12)\n",
    "print(seq_2)"
   ]
  },
  {
   "cell_type": "code",
   "execution_count": null,
   "metadata": {},
   "outputs": [],
   "source": [
    "seq_1 = np.arange(1,25)\n",
    "seq_2 = seq_1.reshape(2,6,2) #2 matrix of 4 rows and 3 columns\n",
    "print(seq_2[0])\n",
    "print(\"\\n\")\n",
    "print(seq_2[1].reshape(2,6))\n",
    "#print(seq_2)"
   ]
  },
  {
   "cell_type": "code",
   "execution_count": null,
   "metadata": {},
   "outputs": [],
   "source": [
    "A = np.arange(1,17)\n",
    "A1 = A.reshape(4,4)\n",
    "print(A1)\n",
    "B = np.ones((4,4),dtype=int) #double brackets for \"np.ones\"\n",
    "print(B)\n",
    "print(\"Sum:\\n\",A1+B)"
   ]
  },
  {
   "cell_type": "code",
   "execution_count": null,
   "metadata": {},
   "outputs": [],
   "source": [
    "# -\"random\" - keyword.\n",
    "# -\"random\" needs numpy.\n",
    "# -cannot give/specify particular numbers.\n",
    "# -can give n number of matrixes.\n",
    "# -all matrix are of same size.\n",
    "# -\"np.random.random((no. of matrix,row,column))\"\n",
    "# -\"np.random.randint(start,end,no. of random numbers to be displayed)\"\n",
    "\n",
    "import numpy as np\n",
    "rand = np.random.random((2,5,5)) #double brackets #no. of matrix,rows,columns\n",
    "print(rand)"
   ]
  },
  {
   "cell_type": "code",
   "execution_count": null,
   "metadata": {},
   "outputs": [],
   "source": [
    "#randint for specific integer range\n",
    "z = np.random.randint(5,50,4) #start,end,no. of random values to be displayed\n",
    "print(z)\n",
    "print(z.reshape(2,2))"
   ]
  },
  {
   "cell_type": "code",
   "execution_count": null,
   "metadata": {},
   "outputs": [],
   "source": [
    "x = np.arange(1,17)\n",
    "x = x.reshape(4,4)\n",
    "y = np.random.random((4,4))\n",
    "print(\"Sum:\\n\",x+y)\n",
    "z1 = np.add(x,y)\n",
    "print(z1)"
   ]
  },
  {
   "cell_type": "code",
   "execution_count": null,
   "metadata": {},
   "outputs": [],
   "source": [
    "x = np.arange(1,5)\n",
    "x1 = x.reshape(2,2)\n",
    "\n",
    "y = np.arange(5,9)\n",
    "y1 = y.reshape(2,2)\n",
    "\n",
    "z = np.dot(x1,y1)\n",
    "print(z)"
   ]
  },
  {
   "cell_type": "code",
   "execution_count": null,
   "metadata": {},
   "outputs": [],
   "source": [
    "a = 10\n",
    "b = 5\n",
    "c = np.divmod(a,b)\n",
    "print(c)"
   ]
  },
  {
   "cell_type": "code",
   "execution_count": null,
   "metadata": {},
   "outputs": [],
   "source": [
    "listt = [1,2,3,4,5,6,7,8,9]\n",
    "print(np.mean(listt))\n",
    "print(np.std(listt))\n",
    "print(np.var(listt))\n",
    "print(np.median(listt))\n",
    "print(np.min(listt))\n",
    "print(np.max(listt))\n",
    "print(np.sum(listt))"
   ]
  },
  {
   "cell_type": "code",
   "execution_count": 12,
   "metadata": {},
   "outputs": [
    {
     "name": "stdout",
     "output_type": "stream",
     "text": [
      "[[ 27  30  33]\n",
      " [ 61  68  75]\n",
      " [ 95 106 117]]\n",
      "[[ 27  30  33]\n",
      " [ 61  68  75]\n",
      " [ 95 106 117]]\n"
     ]
    }
   ],
   "source": [
    "a = np.arange(1,7)\n",
    "b = np.arange(7,13)\n",
    "# print(b)\n",
    "a1 = a.reshape(3,2)\n",
    "b1 = b.reshape(2,3)\n",
    "# print(a1)\n",
    "# print(b1)\n",
    "z = np.matmul(a1,b1) #matrix multiplication\n",
    "z1 = np.dot(a1,b1)\n",
    "#z = a1 * b1\n",
    "print(z)\n",
    "print(z1)\n"
   ]
  },
  {
   "cell_type": "code",
   "execution_count": 14,
   "metadata": {},
   "outputs": [
    {
     "name": "stdout",
     "output_type": "stream",
     "text": [
      "[[9 9 9]\n",
      " [9 9 9]]\n",
      "[[         1          4 1962631520]\n",
      " [       651 1962633008        651]\n",
      " [1962633264        651          0]]\n"
     ]
    }
   ],
   "source": [
    "\n",
    "b = np.full([2,3],9) #\"np.full([row,col],value)\"\n",
    "print(b)\n",
    "c = np.empty([3,3],dtype=int)\n",
    "print(c)\n"
   ]
  },
  {
   "cell_type": "code",
   "execution_count": 15,
   "metadata": {},
   "outputs": [
    {
     "name": "stdout",
     "output_type": "stream",
     "text": [
      "[10 20 30]\n"
     ]
    }
   ],
   "source": [
    "import numpy as np\n",
    "dt = np.dtype([(\"Age\",np.int32)]) #tuple inside list\n",
    "dt_1 = np.array([10,20,30],dtype = dt)\n",
    "print(dt_1[\"Age\"])\n"
   ]
  },
  {
   "cell_type": "code",
   "execution_count": null,
   "metadata": {},
   "outputs": [],
   "source": [
    "import numpy as np\n",
    "emp = np.dtype([(\"Emp ID: \",\"i4\"),(\"Name: \",\"S20\"),(\"Department: \",\"S20\"),(\"Salary: \",\"f8\")])\n",
    "emp_1 = np.array([(101,\"Abc\",\"CS\",1000),(102,\"Def\",\"Mech\",4000),(103,\"Ghi\",\"EEE\",5000),(104,\"Xyz\",\"ECE\",9000)],dtype = emp)\n",
    "print(emp_1[\"Salary: \"])"
   ]
  },
  {
   "cell_type": "code",
   "execution_count": 13,
   "metadata": {},
   "outputs": [
    {
     "name": "stdout",
     "output_type": "stream",
     "text": [
      "[[ 4 10  9]\n",
      " [16 25 18]]\n"
     ]
    }
   ],
   "source": [
    "#multiplication with broadcasting => a * b\n",
    "import numpy as np\n",
    "a = np.arange(1,7)\n",
    "b = np.array([4,5,3])\n",
    "a1 = a.reshape(2,3)\n",
    "c = b * a1\n",
    "print(c)\n",
    "#print(c.flatten())"
   ]
  },
  {
   "cell_type": "code",
   "execution_count": 18,
   "metadata": {},
   "outputs": [
    {
     "name": "stdout",
     "output_type": "stream",
     "text": [
      "[[ 1  2]\n",
      " [ 6  8]\n",
      " [15 18]\n",
      " [28 32]]\n"
     ]
    }
   ],
   "source": [
    "a = np.arange(1,9)\n",
    "b = np.arange(1,5)\n",
    "a1 = a.reshape(4,2)\n",
    "b1 = b.reshape(4,1)\n",
    "c = a1 * b1\n",
    "print(c)"
   ]
  },
  {
   "cell_type": "code",
   "execution_count": 16,
   "metadata": {},
   "outputs": [
    {
     "name": "stdout",
     "output_type": "stream",
     "text": [
      "Horizontal Stack:  [1 2 3 4 5 6]\n",
      "Vertical Stack:  [[1 2 3]\n",
      " [4 5 6]]\n"
     ]
    }
   ],
   "source": [
    "#hstack - extends and vstack - two lists in one\n",
    "a = np.array([1,2,3])\n",
    "b = np.array([4,5,6])\n",
    "print(\"Horizontal Stack: \",np.hstack((a,b))) #double brackets\n",
    "print(\"Vertical Stack: \",np.vstack((a,b))) #double brackets"
   ]
  },
  {
   "cell_type": "code",
   "execution_count": null,
   "metadata": {},
   "outputs": [],
   "source": [
    "a = np.arange(1,17)\n",
    "mat = a.reshape(4,4)\n",
    "print(mat)\n",
    "\n",
    "#print(mat[1][1])\n",
    "#print(mat[::-1])\n",
    "\n",
    "print(mat[1:3,1:3]) #printing the center matrix.\n",
    "\n"
   ]
  },
  {
   "cell_type": "code",
   "execution_count": null,
   "metadata": {},
   "outputs": [],
   "source": [
    "a = np.arange(1,17)\n",
    "mat = a.reshape(4,4)\n",
    "q1 = mat[0:2,0:2]\n",
    "q2 = mat[0:2,2:4]\n",
    "q3 = mat[2:4,0:2]\n",
    "q4 = mat[2:4,2:4]\n",
    "print(\"\\n\",q1)\n",
    "print(\"\\n\",q2)\n",
    "print(\"\\n\",q3)\n",
    "print(\"\\n\",q4)"
   ]
  },
  {
   "cell_type": "code",
   "execution_count": 20,
   "metadata": {},
   "outputs": [
    {
     "name": "stdout",
     "output_type": "stream",
     "text": [
      "*\n",
      "**\n",
      "***\n",
      "****\n",
      "*****\n",
      "******\n"
     ]
    }
   ],
   "source": [
    "#Triangle\n",
    "for i in range(1,7):\n",
    "    print(\"*\"*i)"
   ]
  },
  {
   "cell_type": "code",
   "execution_count": 5,
   "metadata": {},
   "outputs": [
    {
     "name": "stdout",
     "output_type": "stream",
     "text": [
      "[1, 3, 5]\n",
      "3\n"
     ]
    }
   ],
   "source": [
    "odd = [1,3,5]\n",
    "odd.sort()\n",
    "print(odd)\n",
    "if(len(odd)%2 != 0):\n",
    "    x1 = (len(odd)//2) \n",
    "else:\n",
    "    x2 = len(o)/2\n",
    "    x3 = (len(o)/2 - 1)\n",
    "    x4 = o[x2]\n",
    "    x5 = o[x3]\n",
    "    x6 = (x4 + x5) / 2\n",
    "print(odd[x1])\n",
    "#print(odd[x6])\n",
    "\n",
    "    \n",
    "#print(11//2) "
   ]
  },
  {
   "cell_type": "code",
   "execution_count": 2,
   "metadata": {},
   "outputs": [
    {
     "data": {
      "text/plain": [
       "3.5"
      ]
     },
     "execution_count": 2,
     "metadata": {},
     "output_type": "execute_result"
    }
   ],
   "source": [
    "7/2"
   ]
  }
 ],
 "metadata": {
  "kernelspec": {
   "display_name": "Python 3",
   "language": "python",
   "name": "python3"
  },
  "language_info": {
   "codemirror_mode": {
    "name": "ipython",
    "version": 3
   },
   "file_extension": ".py",
   "mimetype": "text/x-python",
   "name": "python",
   "nbconvert_exporter": "python",
   "pygments_lexer": "ipython3",
   "version": "3.7.1"
  }
 },
 "nbformat": 4,
 "nbformat_minor": 2
}
